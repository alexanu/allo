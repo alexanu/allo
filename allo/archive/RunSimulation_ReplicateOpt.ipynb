{
 "cells": [
  {
   "cell_type": "code",
   "execution_count": 1,
   "metadata": {},
   "outputs": [],
   "source": [
    "import time\n",
    "import socket\n",
    "import datetime\n",
    "import numpy as np\n",
    "import pandas as pd\n",
    "import json\n",
    "from dateutil.parser import parse\n",
    "import warnings\n",
    "warnings.filterwarnings(\"ignore\")\n",
    "\n",
    "from data.mongo_storage import MongoStorage\n",
    "\n",
    "from rebalance.single_simulation import PortfolioSimulation\n",
    "from rebalance.full_simulation import FullPortfolioSimulation, StatisticalTest\n",
    "from simulation.run_multiprocessing import run_simulation\n",
    "from google.google_sheet import get_settings, get_gworksheet, worksheet_to_pandas\n",
    "\n",
    "import task.google_task as gt\n",
    "import cxtpy\n",
    "\n",
    "from rebalance.pc_allocate_second_layer import knn_cluster, single_cluster, two_layer_weight\n",
    "\n",
    "from functools import reduce\n",
    "from sklearn.cluster import KMeans\n",
    "from sklearn.decomposition import PCA\n",
    "import plotly.express as px\n",
    "from plotly.offline import plot\n",
    "from rebalance.pc_helper import *\n",
    "\n",
    "from rebalance.analyze_replicate import *\n",
    "from rebalance.load_trpei import load_parse_trpei"
   ]
  },
  {
   "cell_type": "code",
   "execution_count": 2,
   "metadata": {},
   "outputs": [],
   "source": [
    "startdate = datetime.datetime(2014,1,1)\n",
    "enddate = datetime.datetime(2020,1,1)"
   ]
  },
  {
   "cell_type": "code",
   "execution_count": 3,
   "metadata": {},
   "outputs": [
    {
     "data": {
      "text/plain": [
       "(Timestamp('2014-01-31 00:00:00'), Timestamp('2020-01-31 00:00:00'))"
      ]
     },
     "execution_count": 3,
     "metadata": {},
     "output_type": "execute_result"
    }
   ],
   "source": [
    "# TRPEI\n",
    "target_ret_dict, tdf = load_parse_trpei()\n",
    "tdf.index[0], tdf.index[-1]"
   ]
  },
  {
   "cell_type": "code",
   "execution_count": 4,
   "metadata": {},
   "outputs": [],
   "source": [
    "# asset = \"EURUSD\"\n",
    "# m = MongoStorage()\n",
    "# spy_meta = m.FilterAndGetMetadata({\"Name\":{\"$in\": [asset]}})\n",
    "# spy = m.LoadAllSeriesFromId([j[\"_id\"] for j in spy_meta])[0]\n",
    "# tdf = spy.df.copy()\n",
    "# target_ret_dict = get_monthly_ret_dict(tdf, tdf.columns[0], startdate, enddate)\n"
   ]
  },
  {
   "cell_type": "code",
   "execution_count": 1,
   "metadata": {},
   "outputs": [
    {
     "ename": "NameError",
     "evalue": "name 'datetime' is not defined",
     "output_type": "error",
     "traceback": [
      "\u001b[0;31m---------------------------------------------------------------------------\u001b[0m",
      "\u001b[0;31mNameError\u001b[0m                                 Traceback (most recent call last)",
      "\u001b[0;32m<ipython-input-1-adca042d40a2>\u001b[0m in \u001b[0;36m<module>\u001b[0;34m\u001b[0m\n\u001b[1;32m      1\u001b[0m sim_kwargs = {\"n\": 100, \"seed\": 1, \"disable_exclude_1\": 0, \"corr_threshold\": 0.8, \"disable_exclude_2\": 0, \"disable_exclude_3\": 0, \"select_method\": \"RankPctSharpe\", \"top_pct\": 0.35, \n\u001b[1;32m      2\u001b[0m               \u001b[0;34m\"allocate_method\"\u001b[0m\u001b[0;34m:\u001b[0m \u001b[0;34m\"TwoLayer_KNN_RP\"\u001b[0m\u001b[0;34m,\u001b[0m \u001b[0;34m\"n_cluster\"\u001b[0m\u001b[0;34m:\u001b[0m \u001b[0;36m3\u001b[0m\u001b[0;34m,\u001b[0m\u001b[0;34m\u001b[0m\u001b[0;34m\u001b[0m\u001b[0m\n\u001b[0;32m----> 3\u001b[0;31m                 \u001b[0;34m\"select_lookback\"\u001b[0m\u001b[0;34m:\u001b[0m \u001b[0;36m45\u001b[0m\u001b[0;34m,\u001b[0m \u001b[0;34m\"allocate_lookback\"\u001b[0m\u001b[0;34m:\u001b[0m \u001b[0;36m45\u001b[0m\u001b[0;34m,\u001b[0m \u001b[0;34m\"evaluate_forward\"\u001b[0m\u001b[0;34m:\u001b[0m \u001b[0;36m45\u001b[0m\u001b[0;34m,\u001b[0m \u001b[0;34m\"startdate\"\u001b[0m\u001b[0;34m:\u001b[0m \u001b[0mdatetime\u001b[0m\u001b[0;34m.\u001b[0m\u001b[0mdatetime\u001b[0m\u001b[0;34m(\u001b[0m\u001b[0;36m2018\u001b[0m\u001b[0;34m,\u001b[0m\u001b[0;36m1\u001b[0m\u001b[0;34m,\u001b[0m\u001b[0;36m1\u001b[0m\u001b[0;34m)\u001b[0m\u001b[0;34m,\u001b[0m \u001b[0;34m\"enddate\"\u001b[0m\u001b[0;34m:\u001b[0m \u001b[0mdatetime\u001b[0m\u001b[0;34m.\u001b[0m\u001b[0mdatetime\u001b[0m\u001b[0;34m(\u001b[0m\u001b[0;36m2019\u001b[0m\u001b[0;34m,\u001b[0m\u001b[0;36m6\u001b[0m\u001b[0;34m,\u001b[0m\u001b[0;36m1\u001b[0m\u001b[0;34m)\u001b[0m\u001b[0;34m\u001b[0m\u001b[0;34m\u001b[0m\u001b[0m\n\u001b[0m\u001b[1;32m      4\u001b[0m              }\n\u001b[1;32m      5\u001b[0m \u001b[0;34m\u001b[0m\u001b[0m\n",
      "\u001b[0;31mNameError\u001b[0m: name 'datetime' is not defined"
     ]
    }
   ],
   "source": [
    "sim_kwargs = {\"n\": 100, \"seed\": 1, \"disable_exclude_1\": 0, \"corr_threshold\": 0.8, \"disable_exclude_2\": 0, \"disable_exclude_3\": 0, \"select_method\": \"RankPctSharpe\", \"top_pct\": 0.35, \n",
    "              \"allocate_method\": \"TwoLayer_KNN_RP\", \"n_cluster\": 3, \n",
    "                \"select_lookback\": 45, \"allocate_lookback\": 45, \"evaluate_forward\": 45, \"startdate\": datetime.datetime(2018,1,1), \"enddate\": datetime.datetime(2019,6,1)\n",
    "             }\n",
    "\n",
    "FPS_2 = FullPortfolioSimulation(sim_name = \"test_replicate_-1_1\")\n",
    "\n",
    "fps_kwargs = {\"disable_exclude_1\": 1, \"disable_exclude_2\": 1, \"disable_exclude_3\": 1, \"disable_exclude_4\": 1, \"seed\": 123,\n",
    "                \"select_method\": \"All\", \n",
    "                 \"allocate_method\": \"Replicate_LookbackSquareError\", \"target_ret\": \"VARIABLE\",\n",
    "                 \"constrain_weight\": 0,\n",
    "                  \"lowerbound\": -1, \"upperbound\": 1\n",
    "#                  \"allocate_method\": \"CRP\",\n",
    "                }\n",
    "# filter_dict = {\"SeriesType\": \"Benchmark\", \"Name\":{\"$nin\": [asset]}}\n",
    "filter_dict = {\"SeriesType\": \"Replicate_Basket_2c\"}\n",
    "FPS_2.SingleMonthlySimulationWithTarget(startdate, enddate, target_ret_dict, filter_dict, **fps_kwargs)\n",
    "mr_df, cp_df_2, weight_df = FPS_2.AnalyzeMSWT(tdf, startdate, enddate)\n",
    "\n",
    "weight_df.to_csv(\"TRPEI_weightbound_-1_to_1.csv\")\n",
    "print(cp_df_2.corr())\n",
    "cp_df_2.plot()\n"
   ]
  },
  {
   "cell_type": "code",
   "execution_count": 12,
   "metadata": {},
   "outputs": [
    {
     "name": "stdout",
     "output_type": "stream",
     "text": [
      "Successful.\n",
      "Successful.\n",
      "          ACTUAL        IS       OOS\n",
      "ACTUAL  1.000000  0.992391  0.176220\n",
      "IS      0.992391  1.000000  0.199445\n",
      "OOS     0.176220  0.199445  1.000000\n"
     ]
    },
    {
     "data": {
      "text/plain": [
       "<matplotlib.axes._subplots.AxesSubplot at 0x7f461f70ca20>"
      ]
     },
     "execution_count": 12,
     "metadata": {},
     "output_type": "execute_result"
    },
    {
     "data": {
      "image/png": "[encoded data removed]",
      "text/plain": [
       "<Figure size 432x288 with 1 Axes>"
      ]
     },
     "metadata": {
      "needs_background": "light"
     },
     "output_type": "display_data"
    }
   ],
   "source": [
    "FPS_1 = FullPortfolioSimulation(sim_name = \"test_replicate_0_1\")\n",
    "\n",
    "fps_kwargs = {\"disable_exclude_1\": 1, \"disable_exclude_2\": 1, \"disable_exclude_3\": 1, \"disable_exclude_4\": 1, \"seed\": 123,\n",
    "                \"select_method\": \"All\", \n",
    "                 \"allocate_method\": \"Replicate_LookbackSquareError\", \"target_ret\": \"VARIABLE\",\n",
    "                 \"constrain_weight\": 0,\n",
    "                  \"lowerbound\": 0, \"upperbound\": 1\n",
    "#                  \"allocate_method\": \"CRP\",\n",
    "                }\n",
    "# filter_dict = {\"SeriesType\": \"Benchmark\", \"Name\":{\"$nin\": [asset]}}\n",
    "filter_dict = {\"SeriesType\": \"Replicate_Basket_2c\"}\n",
    "FPS_1.SingleMonthlySimulationWithTarget(startdate, enddate, target_ret_dict, filter_dict, **fps_kwargs)\n",
    "FPS_1.SingleMonthlySimulationWithTarget(startdate, enddate, target_ret_dict, filter_dict, **fps_kwargs)\n",
    "mr_df, cp_df, weight_df = FPS_1.AnalyzeMSWT(tdf, startdate, enddate)\n",
    "\n",
    "weight_df.to_csv(\"TRPEI_weightbound_0_to_1.csv\")\n",
    "print(cp_df.corr())\n",
    "cp_df.plot()\n"
   ]
  },
  {
   "cell_type": "code",
   "execution_count": 19,
   "metadata": {},
   "outputs": [
    {
     "name": "stdout",
     "output_type": "stream",
     "text": [
      "          OOS_x     OOS_y\n",
      "OOS_x  1.000000  0.827834\n",
      "OOS_y  0.827834  1.000000\n"
     ]
    },
    {
     "data": {
      "text/plain": [
       "<matplotlib.axes._subplots.AxesSubplot at 0x7f461f7b9d30>"
      ]
     },
     "execution_count": 19,
     "metadata": {},
     "output_type": "execute_result"
    },
    {
     "data": {
      "image/png": "[encoded data removed]",
      "text/plain": [
       "<Figure size 432x288 with 1 Axes>"
      ]
     },
     "metadata": {
      "needs_background": "light"
     },
     "output_type": "display_data"
    }
   ],
   "source": [
    "fdf = pd.merge(cp_df_2[[\"OOS\"]], cp_df[[\"OOS\"]], left_index = True, right_index = True)\n",
    "print(fdf.corr())\n",
    "fdf.plot()"
   ]
  },
  {
   "cell_type": "markdown",
   "metadata": {},
   "source": [
    "## TO_REMOVE"
   ]
  },
  {
   "cell_type": "code",
   "execution_count": 12,
   "metadata": {},
   "outputs": [],
   "source": [
    "m = MongoStorage()"
   ]
  },
  {
   "cell_type": "code",
   "execution_count": null,
   "metadata": {},
   "outputs": [],
   "source": [
    "from rebalance.single_simulation import *\n",
    "from rebalance.optimize_metrics import * \n",
    "from rebalance.pc_optimize import *\n",
    "\n",
    "\n",
    "a1 = datetime.datetime(2019,3,1)\n",
    "a2 = datetime.datetime(2019,4,1)\n",
    "f1 = datetime.datetime(2019,4,1)\n",
    "f2 = datetime.datetime(2019,5,1)\n",
    "\n",
    "spy_meta = m.FilterAndGetMetadata({\"Name\":{\"$in\": [\"SPY\"]}})\n",
    "spy = m.LoadAllSeriesFromId([j[\"_id\"] for j in spy_meta])[0]\n",
    "target_ret_is = np.prod(spy.df.loc[a1:a2]+1)-1\n",
    "target_ret_oos = np.prod(spy.df.loc[f1:f2]+1)-1\n",
    "\n",
    "single_kwargs = {\"disable_exclude_1\": 1, \"disable_exclude_2\": 1, \"disable_exclude_3\": 1, \"disable_exclude_4\": 1,\n",
    "                \"s1\": a1, \"s2\": a2,\n",
    "                \"a1\": a1, \"a2\": a2,\n",
    "                \"f1\": f1, \"f2\": f2,\n",
    "                \"select_method\": \"all\", \n",
    "                 \"allocate_method\": \"Replicate_LookbackSquareError\", \"target_ret\": target_ret_is,\n",
    "                 \"constrain_weight\": 0\n",
    "#                  \"allocate_method\": \"CRP\",\n",
    "                }\n",
    "\n",
    "kwargs = single_kwargs\n",
    "s1 = kwargs.get(\"s1\")\n",
    "s2 = kwargs.get(\"s2\")\n",
    "a1 = kwargs.get(\"a1\")\n",
    "a2 = kwargs.get(\"a2\")\n",
    "f1 = kwargs.get(\"f1\")\n",
    "f2 = kwargs.get(\"f2\")\n",
    "\n",
    "filter_dict = {\"SeriesType\": \"Benchmark\", \"Name\":{\"$nin\": [\"SPY\"]}}\n",
    "\n",
    "ps = PortfolioSimulation(kwargs = single_kwargs, filter_dict = filter_dict)\n",
    "strategy_list = ps.meta_df[\"Name\"].values\n",
    "rseries_list = ps.meta_df[\"rs\"].values\n",
    "\n",
    "# ps.is_metrics, ps.oos_metrics\n",
    "ps.meta_df\n",
    "# print(ps.meta_df[\"weight\"].sum())\n",
    "# weights = ps.meta_df[\"weight\"]\n",
    "allocate_back_df = rdf = get_df_combined_from_rs_list(rs_list = rseries_list, d1 = a1, d2 = a2).fillna(0)\n",
    "# target_ret = 0.006\n",
    "fun = Weights_MinTargetErr(allocate_back_df, target_ret_is)\n",
    "w, res = OptimizeWeights(allocate_back_df, fun, lowerbound = -1, upperbound = 1, \n",
    "                         method = None, tol = 1e-8, constraint = False)\n"
   ]
  },
  {
   "cell_type": "code",
   "execution_count": null,
   "metadata": {},
   "outputs": [],
   "source": [
    "ps.meta_df"
   ]
  },
  {
   "cell_type": "code",
   "execution_count": null,
   "metadata": {},
   "outputs": [],
   "source": [
    "target_ret_is, target_ret_oos"
   ]
  },
  {
   "cell_type": "code",
   "execution_count": null,
   "metadata": {},
   "outputs": [],
   "source": [
    "ps.is_portfolio_df.tail()"
   ]
  },
  {
   "cell_type": "code",
   "execution_count": null,
   "metadata": {},
   "outputs": [],
   "source": [
    "ps.portfolio_df.tail()"
   ]
  },
  {
   "cell_type": "code",
   "execution_count": null,
   "metadata": {},
   "outputs": [],
   "source": [
    "ps.is_portfolio_df.pcret.plot()"
   ]
  },
  {
   "cell_type": "code",
   "execution_count": null,
   "metadata": {},
   "outputs": [],
   "source": [
    "ps.portfolio_df.pcret.plot()"
   ]
  },
  {
   "cell_type": "code",
   "execution_count": null,
   "metadata": {},
   "outputs": [],
   "source": [
    "# res\n",
    "ps.meta_df\n",
    "# ps.is_metrics, ps.oos_metrics"
   ]
  },
  {
   "cell_type": "code",
   "execution_count": null,
   "metadata": {},
   "outputs": [],
   "source": []
  },
  {
   "cell_type": "code",
   "execution_count": null,
   "metadata": {},
   "outputs": [],
   "source": [
    "weights = np.array(weights)\n",
    "returns = np.array(rdf.values)"
   ]
  },
  {
   "cell_type": "code",
   "execution_count": null,
   "metadata": {},
   "outputs": [],
   "source": [
    "err = P_RET_TARGET_SQERR(weights, returns, 0.01)\n",
    "err"
   ]
  },
  {
   "cell_type": "code",
   "execution_count": null,
   "metadata": {},
   "outputs": [],
   "source": [
    "ret = (rdf*weights).sum(axis = 1)\n",
    "np.prod(1+ret)-1"
   ]
  },
  {
   "cell_type": "code",
   "execution_count": null,
   "metadata": {},
   "outputs": [],
   "source": [
    "np.sum(weights*returns, axis = 1)"
   ]
  },
  {
   "cell_type": "code",
   "execution_count": null,
   "metadata": {},
   "outputs": [],
   "source": [
    "sim_kwargs = {\"n\": 100, \"seed\": 1, \"disable_exclude_1\": 0, \"corr_threshold\": 0.8, \"disable_exclude_2\": 0, \"disable_exclude_3\": 0, \"select_method\": \"RankPctSharpe\", \"top_pct\": 0.35, \n",
    "              \"allocate_method\": \"TwoLayer_KNN_RP\", \"n_cluster\": 3, \n",
    "                \"select_lookback\": 45, \"allocate_lookback\": 45, \"evaluate_forward\": 45, \"startdate\": datetime.datetime(2018,1,1), \"enddate\": datetime.datetime(2019,6,1)\n",
    "             }\n",
    "\n",
    "single_kwargs = {\"disable_exclude_1\": 1, \"disable_exclude_2\": 1, \"disable_exclude_3\": 1, \"disable_exclude_4\": 1,\n",
    "                \"s1\": datetime.datetime(2018,1,1), \"s2\": datetime.datetime(2018,4,1),\n",
    "                \"a1\": datetime.datetime(2018,1,1), \"a2\": datetime.datetime(2018,4,1),\n",
    "                \"f1\": datetime.datetime(2018,4,1), \"f2\": datetime.datetime(2018,5,15),\n",
    "                \"select_method\": \"all\", \n",
    "#                  \"allocate_method\": \"CMS\",\n",
    "                 \"allocate_method\": \"CRP\",\n",
    "                }\n",
    "\n",
    "ps = PortfolioSimulation(kwargs = single_kwargs, filter_dict = {\"SeriesType\": \"Benchmark\"})\n",
    "ps.debug1.columns,ps.meta_df.Name.values\n",
    "# ps.is_metrics, ps.oos_metrics\n",
    "# print(ps.meta_df[\"weight\"].sum())\n",
    "# ps.meta_df"
   ]
  },
  {
   "cell_type": "code",
   "execution_count": null,
   "metadata": {},
   "outputs": [],
   "source": []
  },
  {
   "cell_type": "code",
   "execution_count": null,
   "metadata": {},
   "outputs": [],
   "source": [
    "strategy_list = ps.meta_df[\"Name\"].values\n",
    "rseries_list = ps.meta_df[\"rs\"].values"
   ]
  },
  {
   "cell_type": "code",
   "execution_count": null,
   "metadata": {},
   "outputs": [],
   "source": [
    "kwargs = single_kwargs\n",
    "s1 = kwargs.get(\"s1\")\n",
    "s2 = kwargs.get(\"s2\")\n",
    "a1 = kwargs.get(\"a1\")\n",
    "a2 = kwargs.get(\"a2\")\n",
    "f1 = kwargs.get(\"f1\")\n",
    "f2 = kwargs.get(\"f2\")\n"
   ]
  },
  {
   "cell_type": "code",
   "execution_count": null,
   "metadata": {},
   "outputs": [],
   "source": [
    "rdf = get_df_combined_from_rs_list(rs_list = rseries_list, d1 = a1, d2 = a2).fillna(0)"
   ]
  },
  {
   "cell_type": "code",
   "execution_count": null,
   "metadata": {},
   "outputs": [],
   "source": [
    "from rebalance.optimize_metrics import * \n",
    "from rebalance.pc_optimize import *\n",
    "\n",
    "fun = lambda x: -1*P_SHARPE(x, rdf.values, 1)\n",
    "\n"
   ]
  },
  {
   "cell_type": "code",
   "execution_count": null,
   "metadata": {},
   "outputs": [],
   "source": [
    "ps.metrics"
   ]
  },
  {
   "cell_type": "code",
   "execution_count": null,
   "metadata": {},
   "outputs": [],
   "source": [
    "ps.clean_meta_df"
   ]
  },
  {
   "cell_type": "code",
   "execution_count": null,
   "metadata": {},
   "outputs": [],
   "source": []
  },
  {
   "cell_type": "code",
   "execution_count": null,
   "metadata": {},
   "outputs": [],
   "source": [
    "sharpe = cxtpy.metrics_functions.sharpe\n",
    "vol = cxtpy.metrics_functions.volatility\n",
    "maxdd = cxtpy.metrics_functions.max_drawdown_2"
   ]
  },
  {
   "cell_type": "code",
   "execution_count": null,
   "metadata": {},
   "outputs": [],
   "source": [
    "%%time\n",
    "d0 = datetime.datetime(2014,1,1)\n",
    "d1 = datetime.datetime(2018,1,1)\n",
    "m = MongoStorage(None)\n",
    "x = m.client[\"AnalysisEvo\"][\"Strategy\"].distinct(\"Name\")\n",
    "x.sort()\n",
    "filter_name = x[20:1000]\n",
    "filter_meta = m.FilterAndGetMetadata({\"Name\": {\"$in\": filter_name}, \"StartDate\": {\"$lte\": d0}, \"EndDate\": {\"$gte\": d1}})\n",
    "\n",
    "# id_list = [j[\"_id\"] for j in filter_meta][0:500]\n",
    "meta_df = pd.DataFrame(filter_meta).sort_values(\"EndDate\").groupby(\"Name\").last()\n",
    "id_list = meta_df._id.values\n",
    "strategy_list = meta_df.index.values\n",
    "\n",
    "S = m.LoadAllSeriesFromId(id_list)"
   ]
  },
  {
   "cell_type": "code",
   "execution_count": null,
   "metadata": {},
   "outputs": [],
   "source": [
    "df_list = [s.df for s in S]\n",
    "len(df_list),len(strategy_list)"
   ]
  },
  {
   "cell_type": "code",
   "execution_count": null,
   "metadata": {},
   "outputs": [],
   "source": [
    "data_df = pd.DataFrame(dict(df = df_list, names = strategy_list))"
   ]
  },
  {
   "cell_type": "code",
   "execution_count": null,
   "metadata": {},
   "outputs": [],
   "source": [
    "%%time\n",
    "a1 = datetime.datetime(2015, 1, 1)\n",
    "a2 = datetime.datetime(2015, 3, 1)\n",
    "cluster_df = knn_cluster(data_df, a1, a2)\n",
    "# cluster_df = single_cluster(data_df, a1, a2)\n",
    "w, wdf = two_layer_weight(data_df, a1, a2, cluster_df, allocation_method = \"risk parity\")\n",
    "wdf[\"weight\"].describe()\n",
    "# wdf"
   ]
  },
  {
   "cell_type": "code",
   "execution_count": null,
   "metadata": {},
   "outputs": [],
   "source": [
    "%%time\n",
    "a1 = datetime.datetime(2015, 1, 1)\n",
    "a2 = datetime.datetime(2015, 3, 1)\n",
    "cluster_df = knn_cluster(data_df, a1, a2)\n",
    "# cluster_df = single_cluster(data_df, a1, a2)\n",
    "w, wdf = two_layer_weight(data_df, a1, a2, cluster_df, allocation_method = \"eq\")\n",
    "# wdf\n",
    "wdf[\"weight\"].describe()"
   ]
  },
  {
   "cell_type": "code",
   "execution_count": null,
   "metadata": {},
   "outputs": [],
   "source": [
    "%%time\n",
    "a1 = datetime.datetime(2015, 1, 1)\n",
    "a2 = datetime.datetime(2015, 3, 1)\n",
    "# cluster_df = knn_cluster(data_df, a1, a2)\n",
    "cluster_df = single_cluster(data_df, a1, a2)\n",
    "w, wdf = two_layer_weight(data_df, a1, a2, cluster_df, allocation_method = \"risk parity\")\n",
    "wdf[\"weight\"].describe()"
   ]
  },
  {
   "cell_type": "code",
   "execution_count": null,
   "metadata": {},
   "outputs": [],
   "source": [
    "%%time\n",
    "sim_kwargs = {\"n\": 100, \"seed\": 1, \"disable_exclude_1\": 0, \"corr_threshold\": 0.8, \"disable_exclude_2\": 0, \"disable_exclude_3\": 0, \"select_method\": \"RankPctSharpe\", \"top_pct\": 0.35, \n",
    "              \"allocate_method\": \"TwoLayer_KNN_RP\", \"n_cluster\": 3, \n",
    "                \"select_lookback\": 45, \"allocate_lookback\": 45, \"evaluate_forward\": 45, \"startdate\": datetime.datetime(2018,1,1), \"enddate\": datetime.datetime(2019,6,1)\n",
    "             }\n",
    "FPS = FullPortfolioSimulation(sim_name = \"KNNRP01\", save = False)\n",
    "FPS.MultiSimulation(total_simulation = 16, **sim_kwargs)\n",
    "\n",
    "ST = StatisticalTest(FPS, FPS)\n",
    "ST.self_table(FPS)"
   ]
  },
  {
   "cell_type": "code",
   "execution_count": null,
   "metadata": {},
   "outputs": [],
   "source": [
    "%%time\n",
    "sim_kwargs = {\"n\": 100, \"seed\": 1, \"disable_exclude_1\": 0, \"corr_threshold\": 0.8, \"disable_exclude_2\": 0, \"disable_exclude_3\": 0, \"select_method\": \"RankPctSharpe\", \"top_pct\": 0.35, \"allocate_method\": \"CRP\",\n",
    "                \"select_lookback\": 45, \"allocate_lookback\": 45, \"evaluate_forward\": 45, \"startdate\": datetime.datetime(2018,1,1), \"enddate\": datetime.datetime(2019,6,1)\n",
    "             }\n",
    "FPS2 = FullPortfolioSimulation(sim_name = \"CRP01\", save = False)\n",
    "FPS2.MultiSimulation(total_simulation = 16, **sim_kwargs)\n",
    "\n",
    "ST2 = StatisticalTest(FPS, FPS2)\n",
    "ST2.self_table(FPS2)\n"
   ]
  },
  {
   "cell_type": "code",
   "execution_count": null,
   "metadata": {},
   "outputs": [],
   "source": [
    "ST.self_table(FPS)"
   ]
  },
  {
   "cell_type": "code",
   "execution_count": null,
   "metadata": {},
   "outputs": [],
   "source": [
    "ST.self_table(FPS2)"
   ]
  },
  {
   "cell_type": "code",
   "execution_count": null,
   "metadata": {},
   "outputs": [],
   "source": [
    "ST.pair_table(FPS, FPS2)"
   ]
  },
  {
   "cell_type": "code",
   "execution_count": null,
   "metadata": {},
   "outputs": [],
   "source": [
    "\n",
    "\n",
    "fdf = reduce(lambda x, y: pd.merge(x, y, on = 'Date', how = \"outer\"), df_list)\n",
    "fdf = fdf.sort_index().loc[\"2015\":\"2017\"]\n",
    "fdf = fdf.fillna(0)\n",
    "print(fdf.index.min(), fdf.index.max())"
   ]
  },
  {
   "cell_type": "code",
   "execution_count": null,
   "metadata": {},
   "outputs": [],
   "source": [
    "fdf.iloc[:,10].plot()"
   ]
  },
  {
   "cell_type": "code",
   "execution_count": null,
   "metadata": {},
   "outputs": [],
   "source": [
    "maxdd_df = fdf.resample(\"45d\").apply(lambda x: maxdd(x))\n",
    "mean_df = fdf.resample(\"45d\").apply(lambda x: np.mean(x)).fillna(0)\n",
    "std_df = fdf.resample(\"45d\").apply(lambda x: np.std(x)).fillna(0)\n",
    "\n",
    "ff = pd.concat([maxdd_df.T, mean_df.T, std_df.T], axis = 1)"
   ]
  },
  {
   "cell_type": "code",
   "execution_count": null,
   "metadata": {},
   "outputs": [],
   "source": [
    "names = ff.reset_index()[\"index\"]\n",
    "ff.head()"
   ]
  },
  {
   "cell_type": "code",
   "execution_count": null,
   "metadata": {},
   "outputs": [],
   "source": [
    "pca = PCA()\n",
    "pca.fit(ff.values)"
   ]
  },
  {
   "cell_type": "code",
   "execution_count": null,
   "metadata": {},
   "outputs": [],
   "source": [
    "features = pca.fit_transform(ff.values)\n",
    "features_plot = features[:, 0:2]\n",
    "features_kmean = features[:, 0:20]"
   ]
  },
  {
   "cell_type": "code",
   "execution_count": null,
   "metadata": {},
   "outputs": [],
   "source": [
    "pca.explained_variance_ratio_.cumsum()"
   ]
  },
  {
   "cell_type": "code",
   "execution_count": null,
   "metadata": {},
   "outputs": [],
   "source": [
    "nc = np.arange(2,30)\n",
    "inertias = []\n",
    "for n_cluster in nc:\n",
    "    \n",
    "    km = KMeans(n_clusters = n_cluster, random_state = 1)\n",
    "    km.fit(features_kmean)\n",
    "    inertias.append(km.inertia_)\n",
    "    \n",
    "\n"
   ]
  },
  {
   "cell_type": "code",
   "execution_count": null,
   "metadata": {},
   "outputs": [],
   "source": [
    "in_df = pd.DataFrame(dict(nc = nc, ine = inertias))\n",
    "\n",
    "best_cluster = in_df.iloc[in_df[\"ine\"].idxmin(), 0]\n",
    "print(best_cluster)\n",
    "in_df.head(10)"
   ]
  },
  {
   "cell_type": "code",
   "execution_count": null,
   "metadata": {},
   "outputs": [],
   "source": [
    "best_cluster = 10 #override\n",
    "km = KMeans(n_clusters = best_cluster, random_state = 1)\n",
    "km.fit(features_kmean)\n",
    "cluster = km.predict(features_kmean)"
   ]
  },
  {
   "cell_type": "code",
   "execution_count": null,
   "metadata": {},
   "outputs": [],
   "source": [
    "ffdf = pd.DataFrame(dict(x = features[:, 0], y = features[:, 1], name = names))"
   ]
  },
  {
   "cell_type": "code",
   "execution_count": null,
   "metadata": {},
   "outputs": [],
   "source": [
    "ffdf[\"cluster\"] = [\"c_\" + str(j) for j in cluster]"
   ]
  },
  {
   "cell_type": "code",
   "execution_count": null,
   "metadata": {},
   "outputs": [],
   "source": [
    "ffdf.to_dict(orient = \"records\")"
   ]
  },
  {
   "cell_type": "code",
   "execution_count": null,
   "metadata": {},
   "outputs": [],
   "source": [
    "for j in ffdf.cluster.unique():\n",
    "    print(ffdf[ffdf.cluster==j])"
   ]
  },
  {
   "cell_type": "code",
   "execution_count": null,
   "metadata": {},
   "outputs": [],
   "source": []
  },
  {
   "cell_type": "code",
   "execution_count": null,
   "metadata": {},
   "outputs": [],
   "source": [
    "ffdf.columns = [\"x\", \"y\", \"name\", \"cluster\"]\n",
    "fig = px.scatter(ffdf, x = \"x\", y = \"y\", color = \"cluster\", hover_name = \"name\")\n",
    "plot(fig)"
   ]
  },
  {
   "cell_type": "code",
   "execution_count": null,
   "metadata": {},
   "outputs": [],
   "source": [
    "ffdf"
   ]
  },
  {
   "cell_type": "code",
   "execution_count": null,
   "metadata": {},
   "outputs": [],
   "source": []
  },
  {
   "cell_type": "code",
   "execution_count": null,
   "metadata": {},
   "outputs": [],
   "source": [
    "df = S[0].df"
   ]
  },
  {
   "cell_type": "markdown",
   "metadata": {},
   "source": [
    "# Run"
   ]
  },
  {
   "cell_type": "code",
   "execution_count": null,
   "metadata": {},
   "outputs": [],
   "source": [
    "gsheet = \"PortfolioSimulation\"\n",
    "wsheet = \"TaskV2\"\n",
    "gt.do_task(gsheet = gsheet, wsheet = wsheet, TEST = True)"
   ]
  },
  {
   "cell_type": "code",
   "execution_count": null,
   "metadata": {},
   "outputs": [],
   "source": [
    "time.sleep(10)\n",
    "print(\"ok\")"
   ]
  },
  {
   "cell_type": "markdown",
   "metadata": {},
   "source": [
    "# Check Db Count"
   ]
  },
  {
   "cell_type": "code",
   "execution_count": null,
   "metadata": {},
   "outputs": [],
   "source": [
    "for j in range(32):\n",
    "    ss = \"RAS_HRP_D{}_V2a\".format(str(j).zfill(2))\n",
    "    k = gt.CheckDbCount(ss)\n",
    "    print(ss,k)"
   ]
  },
  {
   "cell_type": "code",
   "execution_count": null,
   "metadata": {},
   "outputs": [],
   "source": []
  },
  {
   "cell_type": "markdown",
   "metadata": {},
   "source": [
    "# Delete Simulations"
   ]
  },
  {
   "cell_type": "code",
   "execution_count": null,
   "metadata": {},
   "outputs": [],
   "source": [
    "# sim_name = \"RAS_CRP_D03_V2a\"  \n",
    "# gt.DeleteSimulations(sim_name)"
   ]
  },
  {
   "cell_type": "code",
   "execution_count": null,
   "metadata": {},
   "outputs": [],
   "source": [
    "# for j in range(32):\n",
    "#     ss = \"RAS_CHRP_D{}_V2a\".format(str(j).zfill(2))\n",
    "#     k = gt.CheckDbCount(ss)\n",
    "#     if k < 200:\n",
    "#         sim_name = ss\n",
    "#         gt.DeleteSimulations(ss)\n",
    "    "
   ]
  },
  {
   "cell_type": "code",
   "execution_count": null,
   "metadata": {},
   "outputs": [],
   "source": []
  },
  {
   "cell_type": "code",
   "execution_count": null,
   "metadata": {},
   "outputs": [],
   "source": []
  },
  {
   "cell_type": "code",
   "execution_count": null,
   "metadata": {},
   "outputs": [],
   "source": []
  },
  {
   "cell_type": "code",
   "execution_count": null,
   "metadata": {},
   "outputs": [],
   "source": []
  }
 ],
 "metadata": {
  "kernelspec": {
   "display_name": "Python 3",
   "language": "python",
   "name": "python3"
  },
  "language_info": {
   "codemirror_mode": {
    "name": "ipython",
    "version": 3
   },
   "file_extension": ".py",
   "mimetype": "text/x-python",
   "name": "python",
   "nbconvert_exporter": "python",
   "pygments_lexer": "ipython3",
   "version": "3.6.10"
  }
 },
 "nbformat": 4,
 "nbformat_minor": 4
}
