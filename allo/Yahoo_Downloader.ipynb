{
 "cells": [
  {
   "cell_type": "code",
   "execution_count": 5,
   "metadata": {},
   "outputs": [],
   "source": [
    "from yahoo.yahoo_downloader import download_yahoo\n",
    "# import yfinance \n",
    "# "
   ]
  },
  {
   "cell_type": "code",
   "execution_count": 6,
   "metadata": {},
   "outputs": [],
   "source": [
    "# asset_list =  [\"SPY\", \"XLI\", \"XLK\", \"XLF\", \"XLV\", \"XLY\", \"XLV\", \"XLP\", \"XLE\", \"XLU\", \"VUSTX\", \"SHY\", \"TLT\", \"IEF\", \"VXX\", \"JNK\", \"TIP\", \"BWX\"]\n",
    "# asset_list =  [\"SPY\"]\n",
    "asset_list = [\"SPY\", \"TLT\", \"GLD\"]\n",
    "download_yahoo(asset_list)"
   ]
  },
  {
   "cell_type": "code",
   "execution_count": 4,
   "metadata": {},
   "outputs": [],
   "source": []
  },
  {
   "cell_type": "code",
   "execution_count": 4,
   "metadata": {},
   "outputs": [],
   "source": []
  },
  {
   "cell_type": "code",
   "execution_count": null,
   "metadata": {},
   "outputs": [],
   "source": []
  }
 ],
 "metadata": {
  "kernelspec": {
   "display_name": "Python 3",
   "language": "python",
   "name": "python3"
  },
  "language_info": {
   "codemirror_mode": {
    "name": "ipython",
    "version": 3
   },
   "file_extension": ".py",
   "mimetype": "text/x-python",
   "name": "python",
   "nbconvert_exporter": "python",
   "pygments_lexer": "ipython3",
   "version": "3.6.10"
  }
 },
 "nbformat": 4,
 "nbformat_minor": 4
}
