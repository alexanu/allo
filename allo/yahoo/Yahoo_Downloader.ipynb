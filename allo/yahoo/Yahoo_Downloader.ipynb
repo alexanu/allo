{
 "cells": [
  {
   "cell_type": "code",
   "execution_count": 21,
   "metadata": {},
   "outputs": [],
   "source": [
    "import requests\n",
    "import pandas as pd\n",
    "from data.series import RSeries\n",
    "\n",
    "def query_data(asset = \"SPY\"):\n",
    "    url = \"https://query1.finance.yahoo.com/v7/finance/download/{}?period1=0&period2=3075094400&interval=1d&events=history\".format(asset)\n",
    "    site = requests.get(url)\n",
    "    data = site.text\n",
    "    data2 = [x.split(',') for x in data.split('\\n')]\n",
    "    col, rows = data2[0], data2[1:]\n",
    "    df = pd.DataFrame(rows, columns = col)\n",
    "    df[\"Date\"] = pd.to_datetime(df[\"Date\"])\n",
    "    df.set_index(\"Date\", inplace = True)\n",
    "    df = df.astype(float)\n",
    "    return df"
   ]
  },
  {
   "cell_type": "code",
   "execution_count": 29,
   "metadata": {},
   "outputs": [],
   "source": [
    "# asset_list =  [\"SPY\", \"XLI\", \"XLK\", \"XLF\", \"XLV\", \"XLY\", \"XLV\", \"XLP\", \"XLE\", \"XLU\", \"VUSTX\", \"SHY\", \"TLT\", \"IEF\", \"VXX\", \"JNK\", \"TIP\", \"BWX\"]\n",
    "asset_list =  [\"GLD\"]\n",
    "for asset in asset_list:\n",
    "    try:\n",
    "        df = query_data(asset)\n",
    "        df[asset] = df[\"Adj Close\"].pct_change()\n",
    "        df = df.dropna()\n",
    "        rdf = df[[asset]]\n",
    "        if rdf.shape[0] > 100:\n",
    "            rs = RSeries()\n",
    "            rs.load_custom_series(rdf, custom_series_name = asset, series_type = \"yahoo\")\n",
    "            rs.SaveSeries()\n",
    "        else:\n",
    "            print(\"Not enough data:\", asset)\n",
    "    except Exception as err:\n",
    "        print(err)\n",
    "        print(\"Error:\", asset)\n",
    "        \n",
    "            "
   ]
  },
  {
   "cell_type": "code",
   "execution_count": 4,
   "metadata": {},
   "outputs": [],
   "source": [
    "import yfinance \n"
   ]
  },
  {
   "cell_type": "code",
   "execution_count": 3,
   "metadata": {},
   "outputs": [],
   "source": [
    "# !pip install yfinance"
   ]
  },
  {
   "cell_type": "code",
   "execution_count": null,
   "metadata": {},
   "outputs": [],
   "source": []
  }
 ],
 "metadata": {
  "kernelspec": {
   "display_name": "Python 3",
   "language": "python",
   "name": "python3"
  },
  "language_info": {
   "codemirror_mode": {
    "name": "ipython",
    "version": 3
   },
   "file_extension": ".py",
   "mimetype": "text/x-python",
   "name": "python",
   "nbconvert_exporter": "python",
   "pygments_lexer": "ipython3",
   "version": "3.6.10"
  }
 },
 "nbformat": 4,
 "nbformat_minor": 4
}
