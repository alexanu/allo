{
 "cells": [
  {
   "cell_type": "code",
   "execution_count": 1,
   "metadata": {},
   "outputs": [],
   "source": [
    "import warnings\n",
    "warnings.filterwarnings(\"ignore\")\n",
    "\n",
    "import time\n",
    "import json\n",
    "import datetime\n",
    "import numpy as np\n",
    "import pandas as pd\n",
    "from dateutil.parser import parse\n",
    "from data.mongo_storage import MongoStorage\n",
    "from engine.single_interval_allocator import SingleIntervalAllocator\n",
    "from engine.rebalancer import Rebalancer\n",
    "from engine.replicator import Replicator\n",
    "from allocator.custom_allocate import get_df_combined_from_rs_list\n",
    "from helper.yaml import load_yaml   \n",
    "\n",
    "single_config = load_yaml('example_single_config.yaml')\n",
    "rebal_config = load_yaml('example_rebalancer_config.yaml')\n",
    "replicator_config = load_yaml('example_replicator_config.yaml')\n",
    "\n",
    "# from rebalance.single_simulation import PortfolioSimulation\n",
    "# from rebalance.full_simulation import FullPortfolioSimulation, StatisticalTest\n",
    "# from simulation.run_multiprocessing import run_simulation\n",
    "# from google.google_sheet import get_settings, get_gworksheet, worksheet_to_pandas\n",
    "# import task.google_task as gt\n",
    "\n",
    "MS = MongoStorage()\n",
    "id_list = MS.Find(replicator_config[\"find_filter\"], id_only=True)\n",
    "rs_list = MS.Load(id_list)\n",
    "coll = MS.client[\"AnalysisEvo\"][\"Strategy\"]"
   ]
  },
  {
   "cell_type": "code",
   "execution_count": 2,
   "metadata": {},
   "outputs": [
    {
     "name": "stdout",
     "output_type": "stream",
     "text": [
      "CPU times: user 328 ms, sys: 12.4 ms, total: 340 ms\n",
      "Wall time: 345 ms\n"
     ]
    }
   ],
   "source": [
    "%%time \n",
    "p = SingleIntervalAllocator(**single_config)\n",
    "track_df, excluded, forward_df = p.get_output(subset = False)"
   ]
  },
  {
   "cell_type": "code",
   "execution_count": 3,
   "metadata": {},
   "outputs": [],
   "source": [
    "from data_parser import load_parse\n",
    "td = load_parse.get(\"trpei\")\n",
    "# td()"
   ]
  },
  {
   "cell_type": "code",
   "execution_count": null,
   "metadata": {},
   "outputs": [],
   "source": [
    "# %%time\n",
    "# p = Rebalancer(**rebal_config)\n",
    "# output, fdf = p.get_output()\n",
    "# fdf[\"pcret\"].plot()"
   ]
  },
  {
   "cell_type": "code",
   "execution_count": null,
   "metadata": {},
   "outputs": [],
   "source": [
    "%%time\n",
    "p = Replicator(**replicator_config)\n",
    "output, fdf = p.get_output()\n",
    "# fdf[\"pcret\"].plot()s"
   ]
  },
  {
   "cell_type": "code",
   "execution_count": null,
   "metadata": {},
   "outputs": [],
   "source": [
    "p.get_weights()"
   ]
  },
  {
   "cell_type": "code",
   "execution_count": null,
   "metadata": {},
   "outputs": [],
   "source": [
    "fdf[\"pcret\"].plot()"
   ]
  },
  {
   "cell_type": "code",
   "execution_count": null,
   "metadata": {},
   "outputs": [],
   "source": []
  },
  {
   "cell_type": "code",
   "execution_count": null,
   "metadata": {},
   "outputs": [],
   "source": []
  },
  {
   "cell_type": "code",
   "execution_count": null,
   "metadata": {},
   "outputs": [],
   "source": []
  }
 ],
 "metadata": {
  "kernelspec": {
   "display_name": "Python 3",
   "language": "python",
   "name": "python3"
  },
  "language_info": {
   "codemirror_mode": {
    "name": "ipython",
    "version": 3
   },
   "file_extension": ".py",
   "mimetype": "text/x-python",
   "name": "python",
   "nbconvert_exporter": "python",
   "pygments_lexer": "ipython3",
   "version": "3.6.10"
  }
 },
 "nbformat": 4,
 "nbformat_minor": 4
}
