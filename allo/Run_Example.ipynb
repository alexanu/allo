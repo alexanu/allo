{
 "cells": [
  {
   "cell_type": "code",
   "execution_count": 1,
   "metadata": {},
   "outputs": [],
   "source": [
    "import warnings\n",
    "warnings.filterwarnings(\"ignore\")\n",
    "\n",
    "import time\n",
    "import json\n",
    "import datetime\n",
    "import numpy as np\n",
    "import pandas as pd\n",
    "from dateutil.parser import parse\n",
    "from data.mongo_storage import MongoStorage\n",
    "from engine.single_interval_allocator import SingleIntervalAllocator\n",
    "from engine.rebalancer import Rebalancer\n",
    "from engine.replicator import Replicator\n",
    "from allocator.custom_allocate import get_df_combined_from_rs_list\n",
    "from helper.yaml import load_yaml   \n",
    "\n",
    "single_config = load_yaml('example_single_config.yaml')\n",
    "rebal_config = load_yaml('example_rebalancer_config.yaml')\n",
    "replicator_config = load_yaml('example_replicator_config.yaml')\n",
    "\n",
    "# from rebalance.single_simulation import PortfolioSimulation\n",
    "# from rebalance.full_simulation import FullPortfolioSimulation, StatisticalTest\n",
    "# from simulation.run_multiprocessing import run_simulation\n",
    "# from google.google_sheet import get_settings, get_gworksheet, worksheet_to_pandas\n",
    "# import task.google_task as gt\n",
    "\n",
    "MS = MongoStorage()\n",
    "id_list = MS.Find(replicator_config[\"find_filter\"], id_only=True)\n",
    "rs_list = MS.Load(id_list)\n",
    "coll = MS.client[\"AnalysisEvo\"][\"Strategy\"]"
   ]
  },
  {
   "cell_type": "code",
   "execution_count": 2,
   "metadata": {},
   "outputs": [],
   "source": [
    "# %%time \n",
    "# p = SingleIntervalAllocator(**single_config)\n",
    "# track_df, excluded, forward_df = p.get_output(subset = False)"
   ]
  },
  {
   "cell_type": "code",
   "execution_count": 3,
   "metadata": {},
   "outputs": [],
   "source": [
    "# %%time\n",
    "# p = Rebalancer(**rebal_config)\n",
    "# output, fdf = p.get_output()\n",
    "# fdf[\"pcret\"].plot()"
   ]
  },
  {
   "cell_type": "code",
   "execution_count": 8,
   "metadata": {},
   "outputs": [
    {
     "name": "stdout",
     "output_type": "stream",
     "text": [
      "RMSE: 0.02374956243898335\n",
      "mae: 0.017416712633394053\n",
      "mean_neg: -0.029620733488485235\n",
      "CPU times: user 6.67 s, sys: 76.7 ms, total: 6.75 s\n",
      "Wall time: 6.9 s\n"
     ]
    },
    {
     "data": {
      "text/html": [
       "<div>\n",
       "<style scoped>\n",
       "    .dataframe tbody tr th:only-of-type {\n",
       "        vertical-align: middle;\n",
       "    }\n",
       "\n",
       "    .dataframe tbody tr th {\n",
       "        vertical-align: top;\n",
       "    }\n",
       "\n",
       "    .dataframe thead th {\n",
       "        text-align: right;\n",
       "    }\n",
       "</style>\n",
       "<table border=\"1\" class=\"dataframe\">\n",
       "  <thead>\n",
       "    <tr style=\"text-align: right;\">\n",
       "      <th></th>\n",
       "      <th>actual</th>\n",
       "      <th>replica</th>\n",
       "    </tr>\n",
       "  </thead>\n",
       "  <tbody>\n",
       "    <tr>\n",
       "      <th>5th Percentile Returns</th>\n",
       "      <td>-0.003289</td>\n",
       "      <td>-0.010433</td>\n",
       "    </tr>\n",
       "    <tr>\n",
       "      <th>95th Percentile Returns</th>\n",
       "      <td>0.003270</td>\n",
       "      <td>0.011648</td>\n",
       "    </tr>\n",
       "    <tr>\n",
       "      <th>Average Negative</th>\n",
       "      <td>-0.001547</td>\n",
       "      <td>-0.004301</td>\n",
       "    </tr>\n",
       "    <tr>\n",
       "      <th>Average Positive</th>\n",
       "      <td>0.001297</td>\n",
       "      <td>0.004385</td>\n",
       "    </tr>\n",
       "    <tr>\n",
       "      <th>CAGR</th>\n",
       "      <td>0.097699</td>\n",
       "      <td>0.105140</td>\n",
       "    </tr>\n",
       "    <tr>\n",
       "      <th>Calmar</th>\n",
       "      <td>0.473273</td>\n",
       "      <td>0.443905</td>\n",
       "    </tr>\n",
       "    <tr>\n",
       "      <th>Downside Volatility</th>\n",
       "      <td>0.036285</td>\n",
       "      <td>0.097143</td>\n",
       "    </tr>\n",
       "    <tr>\n",
       "      <th>ETL</th>\n",
       "      <td>-0.004434</td>\n",
       "      <td>-0.018460</td>\n",
       "    </tr>\n",
       "    <tr>\n",
       "      <th>Longest Recovery</th>\n",
       "      <td>401.000000</td>\n",
       "      <td>252.000000</td>\n",
       "    </tr>\n",
       "    <tr>\n",
       "      <th>Max Drawdown</th>\n",
       "      <td>-0.206432</td>\n",
       "      <td>-0.236853</td>\n",
       "    </tr>\n",
       "    <tr>\n",
       "      <th>Negative Periods</th>\n",
       "      <td>0.325162</td>\n",
       "      <td>0.456270</td>\n",
       "    </tr>\n",
       "    <tr>\n",
       "      <th>Positive Periods</th>\n",
       "      <td>0.674838</td>\n",
       "      <td>0.543730</td>\n",
       "    </tr>\n",
       "    <tr>\n",
       "      <th>R Squared</th>\n",
       "      <td>0.933766</td>\n",
       "      <td>0.966122</td>\n",
       "    </tr>\n",
       "    <tr>\n",
       "      <th>Sharpe</th>\n",
       "      <td>2.986763</td>\n",
       "      <td>0.941356</td>\n",
       "    </tr>\n",
       "    <tr>\n",
       "      <th>Slope</th>\n",
       "      <td>0.084851</td>\n",
       "      <td>0.101125</td>\n",
       "    </tr>\n",
       "    <tr>\n",
       "      <th>Sortino</th>\n",
       "      <td>2.692549</td>\n",
       "      <td>1.082327</td>\n",
       "    </tr>\n",
       "    <tr>\n",
       "      <th>Ulcer</th>\n",
       "      <td>1.766648</td>\n",
       "      <td>2.366150</td>\n",
       "    </tr>\n",
       "    <tr>\n",
       "      <th>Upside Volatility</th>\n",
       "      <td>0.017005</td>\n",
       "      <td>0.079839</td>\n",
       "    </tr>\n",
       "    <tr>\n",
       "      <th>Volatility</th>\n",
       "      <td>0.032711</td>\n",
       "      <td>0.111690</td>\n",
       "    </tr>\n",
       "  </tbody>\n",
       "</table>\n",
       "</div>"
      ],
      "text/plain": [
       "                             actual     replica\n",
       "5th Percentile Returns    -0.003289   -0.010433\n",
       "95th Percentile Returns    0.003270    0.011648\n",
       "Average Negative          -0.001547   -0.004301\n",
       "Average Positive           0.001297    0.004385\n",
       "CAGR                       0.097699    0.105140\n",
       "Calmar                     0.473273    0.443905\n",
       "Downside Volatility        0.036285    0.097143\n",
       "ETL                       -0.004434   -0.018460\n",
       "Longest Recovery         401.000000  252.000000\n",
       "Max Drawdown              -0.206432   -0.236853\n",
       "Negative Periods           0.325162    0.456270\n",
       "Positive Periods           0.674838    0.543730\n",
       "R Squared                  0.933766    0.966122\n",
       "Sharpe                     2.986763    0.941356\n",
       "Slope                      0.084851    0.101125\n",
       "Sortino                    2.692549    1.082327\n",
       "Ulcer                      1.766648    2.366150\n",
       "Upside Volatility          0.017005    0.079839\n",
       "Volatility                 0.032711    0.111690"
      ]
     },
     "execution_count": 8,
     "metadata": {},
     "output_type": "execute_result"
    }
   ],
   "source": [
    "%%time\n",
    "replicator_config = load_yaml('example_replicator_config.yaml')\n",
    "p = Replicator(**replicator_config)\n",
    "output, fdf = p.get_output()\n",
    "mr_df, cp_df, metrics_df = p.get_analysis()\n",
    "# fdf[\"pcret\"].plot()\n",
    "# p.get_weights()\n",
    "# p.get_metrics()\n",
    "# mr_df.plot()\n",
    "# cp_df.plot()\n",
    "metrics_df"
   ]
  },
  {
   "cell_type": "code",
   "execution_count": 5,
   "metadata": {},
   "outputs": [
    {
     "data": {
      "text/plain": [
       "ACTUAL    0.000000\n",
       "OOS       0.557143\n",
       "dtype: float64"
      ]
     },
     "execution_count": 5,
     "metadata": {},
     "output_type": "execute_result"
    }
   ],
   "source": [
    "z = mr_df.diff(axis = 1) > 0\n",
    "z.mean()\n",
    "# mr_df.plot()"
   ]
  },
  {
   "cell_type": "code",
   "execution_count": 6,
   "metadata": {},
   "outputs": [
    {
     "data": {
      "text/plain": [
       "<matplotlib.axes._subplots.AxesSubplot at 0x7f9a72cd5198>"
      ]
     },
     "execution_count": 6,
     "metadata": {},
     "output_type": "execute_result"
    },
    {
     "data": {
      "image/png": "[encoded data removed]",
      "text/plain": [
       "<Figure size 432x288 with 1 Axes>"
      ]
     },
     "metadata": {
      "needs_background": "light"
     },
     "output_type": "display_data"
    }
   ],
   "source": [
    "cp_df.plot()"
   ]
  },
  {
   "cell_type": "code",
   "execution_count": null,
   "metadata": {},
   "outputs": [],
   "source": []
  },
  {
   "cell_type": "code",
   "execution_count": null,
   "metadata": {},
   "outputs": [],
   "source": []
  }
 ],
 "metadata": {
  "kernelspec": {
   "display_name": "Python 3",
   "language": "python",
   "name": "python3"
  },
  "language_info": {
   "codemirror_mode": {
    "name": "ipython",
    "version": 3
   },
   "file_extension": ".py",
   "mimetype": "text/x-python",
   "name": "python",
   "nbconvert_exporter": "python",
   "pygments_lexer": "ipython3",
   "version": "3.6.10"
  }
 },
 "nbformat": 4,
 "nbformat_minor": 4
}
